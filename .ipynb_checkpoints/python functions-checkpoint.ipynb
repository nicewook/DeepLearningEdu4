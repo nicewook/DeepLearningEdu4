{
 "cells": [
  {
   "cell_type": "markdown",
   "metadata": {},
   "source": [
    "## np.random.randn(d0, d1, ..., dn)\n",
    "https://docs.scipy.org/doc/numpy/reference/generated/numpy.random.randn.html\n",
    "\n",
    "n차원 정수를 입력해주면\n",
    "\n",
    "그 차원에 맞는 \"standard normal\" distribution 랜덤값들을 출력해준다 = 표준정규분포\n",
    "\n",
    "표준정규분포는 평균이 0 이고 표준편차가 1이다\n",
    "https://www.oswego.edu/~srp/stats/z.htm\n",
    "\n",
    "표준편차가 뭔지 애매할텐데 볼록한 종모양의 분포 그래프에서\n",
    "- 평균 앞뒤로 표준편차만큼의 공간에 약 68%가 있고\n",
    "- 평균 앞뒤로 표준편차 * 2 만큼의 공간에 약 95%\n",
    "- 평균 앞뒤로 표준편차 * 3 만큼의 공간에 약 99.7% 가 있다는 것이다\n"
   ]
  },
  {
   "cell_type": "code",
   "execution_count": 2,
   "metadata": {
    "collapsed": false
   },
   "outputs": [
    {
     "name": "stdout",
     "output_type": "stream",
     "text": [
      "[[ 0.67196524 -1.24712706  1.17262306  0.176544   -1.39476247]\n",
      " [ 2.11293365 -0.55523176  0.30976635  1.15910232  2.22269391]\n",
      " [-0.64284049 -0.91189978 -0.9253139  -1.10520488 -0.62402671]\n",
      " [-1.00473896  0.28278934  1.44218647 -0.27708792  0.87141903]\n",
      " [-0.3385773   0.66252922 -0.35962214 -1.08943987 -0.44004925]]\n"
     ]
    }
   ],
   "source": [
    "import numpy as np\n",
    "W = np.random.randn(5,5)\n",
    "print(W)"
   ]
  },
  {
   "cell_type": "markdown",
   "metadata": {},
   "source": [
    "위 코드를 돌리니 아래와 같이 나왔다.\n",
    "\n",
    "[[ 0.67196524 -1.24712706  1.17262306  0.176544   -1.39476247]\n",
    "\n",
    " [ 2.11293365 -0.55523176  0.30976635  1.15910232  2.22269391]\n",
    " \n",
    " [-0.64284049 -0.91189978 -0.9253139  -1.10520488 -0.62402671]\n",
    " \n",
    " [-1.00473896  0.28278934  1.44218647 -0.27708792  0.87141903]\n",
    " \n",
    " [-0.3385773   0.66252922 -0.35962214 -1.08943987 -0.44004925]]\n",
    " \n",
    " \n",
    " 대략 Standard Normal Distribution 대로 이다. \n",
    " * -1에서 1 사이가 68%\n",
    " * -2에서 2 사이가 95%\n",
    " * -3에서 3 사이가 99.7 프로"
   ]
  },
  {
   "cell_type": "markdown",
   "metadata": {},
   "source": [
    "## numpy.bincount(myArray)\n",
    "\n",
    "array에 있는 같은 값들의 갯수\n",
    "\n",
    "## numpy.argmax(counts)\n",
    "\n",
    "가장 큰 값의 index를 리턴"
   ]
  },
  {
   "cell_type": "code",
   "execution_count": 6,
   "metadata": {
    "collapsed": false
   },
   "outputs": [
    {
     "name": "stdout",
     "output_type": "stream",
     "text": [
      "[0 6 4 2 9]\n",
      "4\n",
      "5\n"
     ]
    }
   ],
   "source": [
    "import numpy as np\n",
    "a = np.array([1,2,3,1,2,1,1,1,3,2,2,1,4,4,4,4,4,4,4,4,4])\n",
    "counts = np.bincount(a)\n",
    "\n",
    "# 0은 0개, 1은 6개, 2는 4개, 3은 2개, 4는 9개이다.\n",
    "# 따라서 (어찌보면 count list의 index와 같은 정수의 갯수를 의미하는 list인) counts = [0 6 4 2 9] 가 된다\n",
    "print(counts)  \n",
    "\n",
    "# numpy.argmax는 list에서 가장 큰 수의 인덱스를 리턴해준다\n",
    "print (np.argmax(counts))\n",
    "\n",
    "# numpy.argmax() 예시 하나더\n",
    "mycount = [3, 5, 6, 2, 1, 7]\n",
    "print(np.argmax(mycount))  # 가장 큰 수인 7의 index인 5를 리턴해준다"
   ]
  },
  {
   "cell_type": "markdown",
   "metadata": {},
   "source": [
    "## numpy.argsort()\n",
    "\n",
    "리스트를 넣어주면\n",
    "리스트에서 작은 값들 순서로 값들의 인덱스를 리턴해준다\n",
    "\n"
   ]
  },
  {
   "cell_type": "code",
   "execution_count": 8,
   "metadata": {
    "collapsed": false
   },
   "outputs": [
    {
     "name": "stdout",
     "output_type": "stream",
     "text": [
      "[4 2 3 0 5 1]\n"
     ]
    }
   ],
   "source": [
    "print(np.argsort([5, 9, 3, 4, 2, 7]))  # 작은 값들의 인덱스부터 리턴해줌. \n",
    "# 즉, 2가 가장 작으니깐 2의 인덱스인 4\n",
    "# 그다음은 3이니깐 인덱스인 2\n",
    "# 4는 3, 5는 0, 7은 5, 9는 1이 된다. 따라서 [4,2,3,0,5,1]이 리턴된다"
   ]
  },
  {
   "cell_type": "code",
   "execution_count": null,
   "metadata": {
    "collapsed": true
   },
   "outputs": [],
   "source": []
  }
 ],
 "metadata": {
  "anaconda-cloud": {},
  "kernelspec": {
   "display_name": "Python [default]",
   "language": "python",
   "name": "python3"
  },
  "language_info": {
   "codemirror_mode": {
    "name": "ipython",
    "version": 3
   },
   "file_extension": ".py",
   "mimetype": "text/x-python",
   "name": "python",
   "nbconvert_exporter": "python",
   "pygments_lexer": "ipython3",
   "version": "3.5.2"
  }
 },
 "nbformat": 4,
 "nbformat_minor": 1
}
